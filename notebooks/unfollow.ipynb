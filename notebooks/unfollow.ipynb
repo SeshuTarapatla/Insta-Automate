{
 "cells": [
  {
   "cell_type": "code",
   "execution_count": null,
   "metadata": {},
   "outputs": [],
   "source": [
    "from datetime import datetime\n",
    "from json import loads\n",
    "from pandas import DataFrame\n",
    "from pathlib import Path\n",
    "from IPython.display import display_markdown\n",
    "from rich.console import Console\n",
    "from rich.table import Table"
   ]
  },
  {
   "cell_type": "code",
   "execution_count": null,
   "metadata": {},
   "outputs": [],
   "source": [
    "dir = Path(\"../meta-2025-Feb-22-12-08-39\")\n",
    "\n",
    "def to_df(name: str, key: str) -> DataFrame:\n",
    "    file = next(dir.rglob(f\"{name}.json\"))\n",
    "    data = loads(file.read_text())[key]\n",
    "    df = DataFrame(map(lambda x: x[\"string_list_data\"][0], data))\n",
    "    df['timestamp'] = df['timestamp'].apply(lambda x: datetime.fromtimestamp(x))\n",
    "    df = df.reindex(columns=['value','timestamp','href'])\n",
    "    return df"
   ]
  },
  {
   "cell_type": "code",
   "execution_count": null,
   "metadata": {},
   "outputs": [],
   "source": [
    "follow_requests = to_df(\"pending_follow_requests\", \"relationships_follow_requests_sent\")\n",
    "follow_requests.sort_values(by=\"timestamp\", inplace=True)\n",
    "follow_requests.reset_index(drop=True, inplace=True)\n",
    "follow_requests.shape"
   ]
  },
  {
   "cell_type": "code",
   "execution_count": null,
   "metadata": {},
   "outputs": [],
   "source": [
    "follow_requests"
   ]
  },
  {
   "cell_type": "markdown",
   "metadata": {},
   "source": [
    "| Key | Stat |\n",
    "|---------|---------|\n",
    "| Start Date | 2025-02-23 |\n",
    "| Max Index | 362 |\n",
    "| Current Index | 5 |\n"
   ]
  },
  {
   "cell_type": "code",
   "execution_count": null,
   "metadata": {},
   "outputs": [],
   "source": [
    "index = 5\n",
    "console = Console()\n",
    "batch = follow_requests.iloc[30*index:30*(index+1)]\n",
    "table = Table(title=f\"Unfollow Batch, start: {batch.iloc[0]['timestamp'].date()} [{30*index}], end: {batch.iloc[-1]['timestamp'].date()} [{30*(index+1)}]\")\n",
    "table.add_column(\"S.no\",justify=\"right\")\n",
    "table.add_column(\"ID\",justify=\"left\",style=\"bold cyan\")\n",
    "table.add_column(\"Date\",justify=\"left\",style=\"green\")\n",
    "table.add_column(\"Link\",style=\"italic\",overflow=\"fold\")\n",
    "for _, row in enumerate(batch.itertuples(), start=1):\n",
    "    table.add_row(str(_), row[1], str(row[2]), f\"[link={row[3]}]Link[/link]\")\n",
    "console.print(table)\n",
    "print(f\"Unfollow Batch, start: {batch.iloc[0]['timestamp'].date()} [{30*index}], end: {batch.iloc[-1]['timestamp'].date()} [{30*(index+1)}]\")\n",
    "for row in batch.itertuples():\n",
    "    print(row[-1])"
   ]
  },
  {
   "cell_type": "code",
   "execution_count": null,
   "metadata": {},
   "outputs": [],
   "source": []
  }
 ],
 "metadata": {
  "kernelspec": {
   "display_name": ".venv",
   "language": "python",
   "name": "python3"
  },
  "language_info": {
   "codemirror_mode": {
    "name": "ipython",
    "version": 3
   },
   "file_extension": ".py",
   "mimetype": "text/x-python",
   "name": "python",
   "nbconvert_exporter": "python",
   "pygments_lexer": "ipython3",
   "version": "3.13.2"
  }
 },
 "nbformat": 4,
 "nbformat_minor": 2
}
