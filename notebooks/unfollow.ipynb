{
 "cells": [
  {
   "cell_type": "code",
   "execution_count": 1,
   "metadata": {},
   "outputs": [],
   "source": [
    "from datetime import datetime\n",
    "from json import loads\n",
    "from pandas import DataFrame\n",
    "from pathlib import Path\n",
    "from IPython.display import display_markdown\n",
    "from rich.console import Console\n",
    "from rich.table import Table"
   ]
  },
  {
   "cell_type": "code",
   "execution_count": 2,
   "metadata": {},
   "outputs": [],
   "source": [
    "dir = Path(\"../meta-2025-Feb-22-12-08-39\")\n",
    "\n",
    "def to_df(name: str, key: str) -> DataFrame:\n",
    "    file = next(dir.rglob(f\"{name}.json\"))\n",
    "    data = loads(file.read_text())[key]\n",
    "    df = DataFrame(map(lambda x: x[\"string_list_data\"][0], data))\n",
    "    df['timestamp'] = df['timestamp'].apply(lambda x: datetime.fromtimestamp(x))\n",
    "    df = df.reindex(columns=['value','timestamp','href'])\n",
    "    return df"
   ]
  },
  {
   "cell_type": "code",
   "execution_count": 3,
   "metadata": {},
   "outputs": [
    {
     "data": {
      "text/plain": [
       "(10874, 3)"
      ]
     },
     "execution_count": 3,
     "metadata": {},
     "output_type": "execute_result"
    }
   ],
   "source": [
    "follow_requests = to_df(\"pending_follow_requests\", \"relationships_follow_requests_sent\")\n",
    "follow_requests.sort_values(by=\"timestamp\", inplace=True)\n",
    "follow_requests.reset_index(drop=True, inplace=True)\n",
    "follow_requests.shape"
   ]
  },
  {
   "cell_type": "code",
   "execution_count": 4,
   "metadata": {},
   "outputs": [
    {
     "data": {
      "application/vnd.microsoft.datawrangler.viewer.v0+json": {
       "columns": [
        {
         "name": "index",
         "rawType": "int64",
         "type": "integer"
        },
        {
         "name": "value",
         "rawType": "object",
         "type": "string"
        },
        {
         "name": "timestamp",
         "rawType": "datetime64[ns]",
         "type": "datetime"
        },
        {
         "name": "href",
         "rawType": "object",
         "type": "string"
        }
       ],
       "conversionMethod": "pd.DataFrame",
       "ref": "30cbdc80-f46f-4f65-9017-20b33a4c1a67",
       "rows": [
        [
         "0",
         "roshinichowdary",
         "2017-11-19 00:43:09",
         "https://www.instagram.com/roshinichowdary"
        ],
        [
         "1",
         "shilpa__kothari",
         "2019-06-05 23:31:19",
         "https://www.instagram.com/shilpa__kothari"
        ],
        [
         "2",
         "anusha.anu29",
         "2019-06-22 01:23:46",
         "https://www.instagram.com/anusha.anu29"
        ],
        [
         "3",
         "tannu2112",
         "2019-08-18 00:35:36",
         "https://www.instagram.com/tannu2112"
        ],
        [
         "4",
         "pravlii",
         "2019-09-12 02:20:15",
         "https://www.instagram.com/pravlii"
        ],
        [
         "5",
         "kavya_yennapusa",
         "2019-09-12 02:20:48",
         "https://www.instagram.com/kavya_yennapusa"
        ],
        [
         "6",
         "___cute_energy___",
         "2019-09-12 02:21:41",
         "https://www.instagram.com/___cute_energy___"
        ],
        [
         "7",
         "prameela_055",
         "2019-09-12 02:23:39",
         "https://www.instagram.com/prameela_055"
        ],
        [
         "8",
         "_.preethiyerram._",
         "2019-09-13 02:03:09",
         "https://www.instagram.com/_.preethiyerram._"
        ],
        [
         "9",
         "_vyshhh.__",
         "2019-10-28 01:45:04",
         "https://www.instagram.com/_vyshhh.__"
        ],
        [
         "10",
         "_.aishwarya_suresh._",
         "2019-12-11 02:48:11",
         "https://www.instagram.com/_.aishwarya_suresh._"
        ],
        [
         "11",
         "sowmya_vallabhaneni_716",
         "2019-12-13 02:16:08",
         "https://www.instagram.com/sowmya_vallabhaneni_716"
        ],
        [
         "12",
         "anshu_munka",
         "2019-12-18 16:31:06",
         "https://www.instagram.com/anshu_munka"
        ],
        [
         "13",
         "swetha_syam",
         "2019-12-18 20:01:22",
         "https://www.instagram.com/swetha_syam"
        ],
        [
         "14",
         "arshitha_h",
         "2019-12-19 11:06:05",
         "https://www.instagram.com/arshitha_h"
        ],
        [
         "15",
         "anu_krishna_g",
         "2019-12-19 12:07:28",
         "https://www.instagram.com/anu_krishna_g"
        ],
        [
         "16",
         "__likhitha__",
         "2019-12-20 00:19:31",
         "https://www.instagram.com/__likhitha__"
        ],
        [
         "17",
         "__ayesha__96",
         "2019-12-20 09:13:17",
         "https://www.instagram.com/__ayesha__96"
        ],
        [
         "18",
         "mahathi_0911",
         "2019-12-22 00:43:18",
         "https://www.instagram.com/mahathi_0911"
        ],
        [
         "19",
         "__secret_.giggle__",
         "2019-12-22 00:43:52",
         "https://www.instagram.com/__secret_.giggle__"
        ],
        [
         "20",
         "vyshuvirat",
         "2019-12-26 21:31:02",
         "https://www.instagram.com/vyshuvirat"
        ],
        [
         "21",
         "jahnavi_kotnala",
         "2019-12-27 01:49:52",
         "https://www.instagram.com/jahnavi_kotnala"
        ],
        [
         "22",
         "kaithoju_shruthi",
         "2019-12-27 01:50:16",
         "https://www.instagram.com/kaithoju_shruthi"
        ],
        [
         "23",
         "sreelekhareddyyyy",
         "2019-12-27 01:50:28",
         "https://www.instagram.com/sreelekhareddyyyy"
        ],
        [
         "24",
         "ichandrakala",
         "2019-12-29 18:23:49",
         "https://www.instagram.com/ichandrakala"
        ],
        [
         "25",
         "jillala_renuka",
         "2019-12-31 16:40:40",
         "https://www.instagram.com/jillala_renuka"
        ],
        [
         "26",
         "imma__glo",
         "2020-01-06 16:05:54",
         "https://www.instagram.com/imma__glo"
        ],
        [
         "27",
         "__glitzy_go__",
         "2020-01-19 10:12:21",
         "https://www.instagram.com/__glitzy_go__"
        ],
        [
         "28",
         "_nonedineyy_",
         "2020-01-21 23:42:36",
         "https://www.instagram.com/_nonedineyy_"
        ],
        [
         "29",
         "sucharita.k__",
         "2020-01-22 23:24:05",
         "https://www.instagram.com/sucharita.k__"
        ],
        [
         "30",
         "me_vaishnaviii",
         "2020-01-22 23:24:25",
         "https://www.instagram.com/me_vaishnaviii"
        ],
        [
         "31",
         "_c00l_cat_anu",
         "2020-01-24 22:13:31",
         "https://www.instagram.com/_c00l_cat_anu"
        ],
        [
         "32",
         "keerthi_r_das",
         "2020-01-29 19:04:09",
         "https://www.instagram.com/keerthi_r_das"
        ],
        [
         "33",
         "_.sotally._tober",
         "2020-02-01 00:05:17",
         "https://www.instagram.com/_.sotally._tober"
        ],
        [
         "34",
         "_parul10",
         "2020-02-01 18:38:24",
         "https://www.instagram.com/_parul10"
        ],
        [
         "35",
         "riyaagrawal002",
         "2020-02-02 00:27:57",
         "https://www.instagram.com/riyaagrawal002"
        ],
        [
         "36",
         "nanduru_chandana",
         "2020-02-02 00:31:50",
         "https://www.instagram.com/nanduru_chandana"
        ],
        [
         "37",
         "sirisha_sushant",
         "2020-02-02 20:25:01",
         "https://www.instagram.com/sirisha_sushant"
        ],
        [
         "38",
         "deepanshi._.gupta",
         "2020-02-06 13:43:34",
         "https://www.instagram.com/deepanshi._.gupta"
        ],
        [
         "39",
         "shruti.shrivastava_",
         "2020-02-07 21:32:35",
         "https://www.instagram.com/shruti.shrivastava_"
        ],
        [
         "40",
         "gowthami_nswamy",
         "2020-02-17 22:29:42",
         "https://www.instagram.com/gowthami_nswamy"
        ],
        [
         "41",
         "sakshirai_04",
         "2020-02-25 08:43:15",
         "https://www.instagram.com/sakshirai_04"
        ],
        [
         "42",
         "_shraddhasingh_039",
         "2020-02-25 08:43:35",
         "https://www.instagram.com/_shraddhasingh_039"
        ],
        [
         "43",
         "siris_diary_",
         "2020-02-25 08:44:55",
         "https://www.instagram.com/siris_diary_"
        ],
        [
         "44",
         "ritika809",
         "2020-02-26 19:52:57",
         "https://www.instagram.com/ritika809"
        ],
        [
         "45",
         "divyadolly456",
         "2020-02-28 01:33:32",
         "https://www.instagram.com/divyadolly456"
        ],
        [
         "46",
         "jaiz_jf",
         "2020-02-28 02:32:39",
         "https://www.instagram.com/jaiz_jf"
        ],
        [
         "47",
         "poonam_b_1",
         "2020-02-28 02:36:02",
         "https://www.instagram.com/poonam_b_1"
        ],
        [
         "48",
         "priyal.dedhia23",
         "2020-03-02 22:45:25",
         "https://www.instagram.com/priyal.dedhia23"
        ],
        [
         "49",
         "afreen_kansal",
         "2020-03-02 22:45:31",
         "https://www.instagram.com/afreen_kansal"
        ]
       ],
       "shape": {
        "columns": 3,
        "rows": 10874
       }
      },
      "text/html": [
       "<div>\n",
       "<style scoped>\n",
       "    .dataframe tbody tr th:only-of-type {\n",
       "        vertical-align: middle;\n",
       "    }\n",
       "\n",
       "    .dataframe tbody tr th {\n",
       "        vertical-align: top;\n",
       "    }\n",
       "\n",
       "    .dataframe thead th {\n",
       "        text-align: right;\n",
       "    }\n",
       "</style>\n",
       "<table border=\"1\" class=\"dataframe\">\n",
       "  <thead>\n",
       "    <tr style=\"text-align: right;\">\n",
       "      <th></th>\n",
       "      <th>value</th>\n",
       "      <th>timestamp</th>\n",
       "      <th>href</th>\n",
       "    </tr>\n",
       "  </thead>\n",
       "  <tbody>\n",
       "    <tr>\n",
       "      <th>0</th>\n",
       "      <td>roshinichowdary</td>\n",
       "      <td>2017-11-19 00:43:09</td>\n",
       "      <td>https://www.instagram.com/roshinichowdary</td>\n",
       "    </tr>\n",
       "    <tr>\n",
       "      <th>1</th>\n",
       "      <td>shilpa__kothari</td>\n",
       "      <td>2019-06-05 23:31:19</td>\n",
       "      <td>https://www.instagram.com/shilpa__kothari</td>\n",
       "    </tr>\n",
       "    <tr>\n",
       "      <th>2</th>\n",
       "      <td>anusha.anu29</td>\n",
       "      <td>2019-06-22 01:23:46</td>\n",
       "      <td>https://www.instagram.com/anusha.anu29</td>\n",
       "    </tr>\n",
       "    <tr>\n",
       "      <th>3</th>\n",
       "      <td>tannu2112</td>\n",
       "      <td>2019-08-18 00:35:36</td>\n",
       "      <td>https://www.instagram.com/tannu2112</td>\n",
       "    </tr>\n",
       "    <tr>\n",
       "      <th>4</th>\n",
       "      <td>pravlii</td>\n",
       "      <td>2019-09-12 02:20:15</td>\n",
       "      <td>https://www.instagram.com/pravlii</td>\n",
       "    </tr>\n",
       "    <tr>\n",
       "      <th>...</th>\n",
       "      <td>...</td>\n",
       "      <td>...</td>\n",
       "      <td>...</td>\n",
       "    </tr>\n",
       "    <tr>\n",
       "      <th>10869</th>\n",
       "      <td>ft.poorvaa</td>\n",
       "      <td>2025-02-21 01:57:14</td>\n",
       "      <td>https://www.instagram.com/ft.poorvaa</td>\n",
       "    </tr>\n",
       "    <tr>\n",
       "      <th>10870</th>\n",
       "      <td>vatsgunjan_</td>\n",
       "      <td>2025-02-21 02:37:25</td>\n",
       "      <td>https://www.instagram.com/vatsgunjan_</td>\n",
       "    </tr>\n",
       "    <tr>\n",
       "      <th>10871</th>\n",
       "      <td>navvx01</td>\n",
       "      <td>2025-02-22 02:39:02</td>\n",
       "      <td>https://www.instagram.com/navvx01</td>\n",
       "    </tr>\n",
       "    <tr>\n",
       "      <th>10872</th>\n",
       "      <td>wadhera_shreya</td>\n",
       "      <td>2025-02-22 13:54:48</td>\n",
       "      <td>https://www.instagram.com/wadhera_shreya</td>\n",
       "    </tr>\n",
       "    <tr>\n",
       "      <th>10873</th>\n",
       "      <td>dhritiisharmaa_</td>\n",
       "      <td>2025-02-23 00:57:03</td>\n",
       "      <td>https://www.instagram.com/dhritiisharmaa_</td>\n",
       "    </tr>\n",
       "  </tbody>\n",
       "</table>\n",
       "<p>10874 rows × 3 columns</p>\n",
       "</div>"
      ],
      "text/plain": [
       "                 value           timestamp  \\\n",
       "0      roshinichowdary 2017-11-19 00:43:09   \n",
       "1      shilpa__kothari 2019-06-05 23:31:19   \n",
       "2         anusha.anu29 2019-06-22 01:23:46   \n",
       "3            tannu2112 2019-08-18 00:35:36   \n",
       "4              pravlii 2019-09-12 02:20:15   \n",
       "...                ...                 ...   \n",
       "10869       ft.poorvaa 2025-02-21 01:57:14   \n",
       "10870      vatsgunjan_ 2025-02-21 02:37:25   \n",
       "10871          navvx01 2025-02-22 02:39:02   \n",
       "10872   wadhera_shreya 2025-02-22 13:54:48   \n",
       "10873  dhritiisharmaa_ 2025-02-23 00:57:03   \n",
       "\n",
       "                                            href  \n",
       "0      https://www.instagram.com/roshinichowdary  \n",
       "1      https://www.instagram.com/shilpa__kothari  \n",
       "2         https://www.instagram.com/anusha.anu29  \n",
       "3            https://www.instagram.com/tannu2112  \n",
       "4              https://www.instagram.com/pravlii  \n",
       "...                                          ...  \n",
       "10869       https://www.instagram.com/ft.poorvaa  \n",
       "10870      https://www.instagram.com/vatsgunjan_  \n",
       "10871          https://www.instagram.com/navvx01  \n",
       "10872   https://www.instagram.com/wadhera_shreya  \n",
       "10873  https://www.instagram.com/dhritiisharmaa_  \n",
       "\n",
       "[10874 rows x 3 columns]"
      ]
     },
     "execution_count": 4,
     "metadata": {},
     "output_type": "execute_result"
    }
   ],
   "source": [
    "follow_requests"
   ]
  },
  {
   "cell_type": "markdown",
   "metadata": {},
   "source": [
    "| Key | Stat |\n",
    "|---------|---------|\n",
    "| Start Date | 2025-02-23 |\n",
    "| Max Index | 362 |\n",
    "| Current Index | 3 |\n"
   ]
  },
  {
   "cell_type": "code",
   "execution_count": 9,
   "metadata": {},
   "outputs": [
    {
     "data": {
      "text/html": [
       "<pre style=\"white-space:pre;overflow-x:auto;line-height:normal;font-family:Menlo,'DejaVu Sans Mono',consolas,'Courier New',monospace\"><span style=\"font-style: italic\">                    Batch: 2025-02-24                     </span>\n",
       "┏━━━━━━┳━━━━━━━━━━━━━━━━━━━━┳━━━━━━━━━━━━━━━━━━━━━┳━━━━━━┓\n",
       "┃<span style=\"font-weight: bold\"> S.no </span>┃<span style=\"font-weight: bold\"> ID                 </span>┃<span style=\"font-weight: bold\"> Date                </span>┃<span style=\"font-weight: bold\"> Link </span>┃\n",
       "┡━━━━━━╇━━━━━━━━━━━━━━━━━━━━╇━━━━━━━━━━━━━━━━━━━━━╇━━━━━━┩\n",
       "│    1 │<span style=\"color: #008080; text-decoration-color: #008080; font-weight: bold\"> illusion_469       </span>│<span style=\"color: #008000; text-decoration-color: #008000\"> 2020-04-05 00:11:56 </span>│<span style=\"font-style: italic\"> </span><a href=\"https://www.instagram.com/illusion_469\" target=\"_blank\"><span style=\"font-style: italic\">Link</span></a><span style=\"font-style: italic\"> </span>│\n",
       "│    2 │<span style=\"color: #008080; text-decoration-color: #008080; font-weight: bold\"> jagruti_borse_99   </span>│<span style=\"color: #008000; text-decoration-color: #008000\"> 2020-04-08 05:26:47 </span>│<span style=\"font-style: italic\"> </span><a href=\"https://www.instagram.com/jagruti_borse_99\" target=\"_blank\"><span style=\"font-style: italic\">Link</span></a><span style=\"font-style: italic\"> </span>│\n",
       "│    3 │<span style=\"color: #008080; text-decoration-color: #008080; font-weight: bold\"> saylichaudhari1013 </span>│<span style=\"color: #008000; text-decoration-color: #008000\"> 2020-04-09 12:09:37 </span>│<span style=\"font-style: italic\"> </span><a href=\"https://www.instagram.com/saylichaudhari1013\" target=\"_blank\"><span style=\"font-style: italic\">Link</span></a><span style=\"font-style: italic\"> </span>│\n",
       "│    4 │<span style=\"color: #008080; text-decoration-color: #008080; font-weight: bold\"> viniktha_chowdary  </span>│<span style=\"color: #008000; text-decoration-color: #008000\"> 2020-04-14 08:50:48 </span>│<span style=\"font-style: italic\"> </span><a href=\"https://www.instagram.com/viniktha_chowdary\" target=\"_blank\"><span style=\"font-style: italic\">Link</span></a><span style=\"font-style: italic\"> </span>│\n",
       "│    5 │<span style=\"color: #008080; text-decoration-color: #008080; font-weight: bold\"> samanvii06         </span>│<span style=\"color: #008000; text-decoration-color: #008000\"> 2020-04-16 11:42:13 </span>│<span style=\"font-style: italic\"> </span><a href=\"https://www.instagram.com/samanvii06\" target=\"_blank\"><span style=\"font-style: italic\">Link</span></a><span style=\"font-style: italic\"> </span>│\n",
       "│    6 │<span style=\"color: #008080; text-decoration-color: #008080; font-weight: bold\"> anusha__2208       </span>│<span style=\"color: #008000; text-decoration-color: #008000\"> 2020-04-20 13:56:33 </span>│<span style=\"font-style: italic\"> </span><a href=\"https://www.instagram.com/anusha__2208\" target=\"_blank\"><span style=\"font-style: italic\">Link</span></a><span style=\"font-style: italic\"> </span>│\n",
       "│    7 │<span style=\"color: #008080; text-decoration-color: #008080; font-weight: bold\"> hey._.s_i_r_i      </span>│<span style=\"color: #008000; text-decoration-color: #008000\"> 2020-04-20 19:46:53 </span>│<span style=\"font-style: italic\"> </span><a href=\"https://www.instagram.com/hey._.s_i_r_i\" target=\"_blank\"><span style=\"font-style: italic\">Link</span></a><span style=\"font-style: italic\"> </span>│\n",
       "│    8 │<span style=\"color: #008080; text-decoration-color: #008080; font-weight: bold\"> waghelakhushi_     </span>│<span style=\"color: #008000; text-decoration-color: #008000\"> 2020-04-20 20:30:34 </span>│<span style=\"font-style: italic\"> </span><a href=\"https://www.instagram.com/waghelakhushi_\" target=\"_blank\"><span style=\"font-style: italic\">Link</span></a><span style=\"font-style: italic\"> </span>│\n",
       "│    9 │<span style=\"color: #008080; text-decoration-color: #008080; font-weight: bold\"> __pooja_rajani__   </span>│<span style=\"color: #008000; text-decoration-color: #008000\"> 2020-04-20 20:30:41 </span>│<span style=\"font-style: italic\"> </span><a href=\"https://www.instagram.com/__pooja_rajani__\" target=\"_blank\"><span style=\"font-style: italic\">Link</span></a><span style=\"font-style: italic\"> </span>│\n",
       "│   10 │<span style=\"color: #008080; text-decoration-color: #008080; font-weight: bold\"> riaaa.sm           </span>│<span style=\"color: #008000; text-decoration-color: #008000\"> 2020-04-20 20:31:48 </span>│<span style=\"font-style: italic\"> </span><a href=\"https://www.instagram.com/riaaa.sm\" target=\"_blank\"><span style=\"font-style: italic\">Link</span></a><span style=\"font-style: italic\"> </span>│\n",
       "│   11 │<span style=\"color: #008080; text-decoration-color: #008080; font-weight: bold\"> _chaiiiiii___      </span>│<span style=\"color: #008000; text-decoration-color: #008000\"> 2020-04-20 21:27:07 </span>│<span style=\"font-style: italic\"> </span><a href=\"https://www.instagram.com/_chaiiiiii___\" target=\"_blank\"><span style=\"font-style: italic\">Link</span></a><span style=\"font-style: italic\"> </span>│\n",
       "│   12 │<span style=\"color: #008080; text-decoration-color: #008080; font-weight: bold\"> vinnyshaurya       </span>│<span style=\"color: #008000; text-decoration-color: #008000\"> 2020-04-22 21:25:13 </span>│<span style=\"font-style: italic\"> </span><a href=\"https://www.instagram.com/vinnyshaurya\" target=\"_blank\"><span style=\"font-style: italic\">Link</span></a><span style=\"font-style: italic\"> </span>│\n",
       "│   13 │<span style=\"color: #008080; text-decoration-color: #008080; font-weight: bold\"> prapti.shrivastava </span>│<span style=\"color: #008000; text-decoration-color: #008000\"> 2020-04-24 00:31:25 </span>│<span style=\"font-style: italic\"> </span><a href=\"https://www.instagram.com/prapti.shrivastava\" target=\"_blank\"><span style=\"font-style: italic\">Link</span></a><span style=\"font-style: italic\"> </span>│\n",
       "│   14 │<span style=\"color: #008080; text-decoration-color: #008080; font-weight: bold\"> rabia.salhotra     </span>│<span style=\"color: #008000; text-decoration-color: #008000\"> 2020-04-24 00:32:02 </span>│<span style=\"font-style: italic\"> </span><a href=\"https://www.instagram.com/rabia.salhotra\" target=\"_blank\"><span style=\"font-style: italic\">Link</span></a><span style=\"font-style: italic\"> </span>│\n",
       "│   15 │<span style=\"color: #008080; text-decoration-color: #008080; font-weight: bold\"> jainprachi7        </span>│<span style=\"color: #008000; text-decoration-color: #008000\"> 2020-04-24 00:32:59 </span>│<span style=\"font-style: italic\"> </span><a href=\"https://www.instagram.com/jainprachi7\" target=\"_blank\"><span style=\"font-style: italic\">Link</span></a><span style=\"font-style: italic\"> </span>│\n",
       "│   16 │<span style=\"color: #008080; text-decoration-color: #008080; font-weight: bold\"> deepika9139        </span>│<span style=\"color: #008000; text-decoration-color: #008000\"> 2020-04-24 00:34:47 </span>│<span style=\"font-style: italic\"> </span><a href=\"https://www.instagram.com/deepika9139\" target=\"_blank\"><span style=\"font-style: italic\">Link</span></a><span style=\"font-style: italic\"> </span>│\n",
       "│   17 │<span style=\"color: #008080; text-decoration-color: #008080; font-weight: bold\"> mehakhans_888      </span>│<span style=\"color: #008000; text-decoration-color: #008000\"> 2020-04-24 00:34:52 </span>│<span style=\"font-style: italic\"> </span><a href=\"https://www.instagram.com/mehakhans_888\" target=\"_blank\"><span style=\"font-style: italic\">Link</span></a><span style=\"font-style: italic\"> </span>│\n",
       "│   18 │<span style=\"color: #008080; text-decoration-color: #008080; font-weight: bold\"> vamikaanand._      </span>│<span style=\"color: #008000; text-decoration-color: #008000\"> 2020-04-24 02:42:39 </span>│<span style=\"font-style: italic\"> </span><a href=\"https://www.instagram.com/vamikaanand._\" target=\"_blank\"><span style=\"font-style: italic\">Link</span></a><span style=\"font-style: italic\"> </span>│\n",
       "│   19 │<span style=\"color: #008080; text-decoration-color: #008080; font-weight: bold\"> _.rachnaaaaa._     </span>│<span style=\"color: #008000; text-decoration-color: #008000\"> 2020-04-25 01:24:24 </span>│<span style=\"font-style: italic\"> </span><a href=\"https://www.instagram.com/_.rachnaaaaa._\" target=\"_blank\"><span style=\"font-style: italic\">Link</span></a><span style=\"font-style: italic\"> </span>│\n",
       "│   20 │<span style=\"color: #008080; text-decoration-color: #008080; font-weight: bold\"> nikhila_b1         </span>│<span style=\"color: #008000; text-decoration-color: #008000\"> 2020-04-26 17:46:54 </span>│<span style=\"font-style: italic\"> </span><a href=\"https://www.instagram.com/nikhila_b1\" target=\"_blank\"><span style=\"font-style: italic\">Link</span></a><span style=\"font-style: italic\"> </span>│\n",
       "│   21 │<span style=\"color: #008080; text-decoration-color: #008080; font-weight: bold\"> priya_ch9tt9       </span>│<span style=\"color: #008000; text-decoration-color: #008000\"> 2020-04-26 17:58:25 </span>│<span style=\"font-style: italic\"> </span><a href=\"https://www.instagram.com/priya_ch9tt9\" target=\"_blank\"><span style=\"font-style: italic\">Link</span></a><span style=\"font-style: italic\"> </span>│\n",
       "│   22 │<span style=\"color: #008080; text-decoration-color: #008080; font-weight: bold\"> introspector_wave  </span>│<span style=\"color: #008000; text-decoration-color: #008000\"> 2020-04-28 00:41:14 </span>│<span style=\"font-style: italic\"> </span><a href=\"https://www.instagram.com/introspector_wave\" target=\"_blank\"><span style=\"font-style: italic\">Link</span></a><span style=\"font-style: italic\"> </span>│\n",
       "│   23 │<span style=\"color: #008080; text-decoration-color: #008080; font-weight: bold\"> srujala_pedduri    </span>│<span style=\"color: #008000; text-decoration-color: #008000\"> 2020-04-29 23:40:32 </span>│<span style=\"font-style: italic\"> </span><a href=\"https://www.instagram.com/srujala_pedduri\" target=\"_blank\"><span style=\"font-style: italic\">Link</span></a><span style=\"font-style: italic\"> </span>│\n",
       "│   24 │<span style=\"color: #008080; text-decoration-color: #008080; font-weight: bold\"> cherrylll_777      </span>│<span style=\"color: #008000; text-decoration-color: #008000\"> 2020-04-30 17:46:52 </span>│<span style=\"font-style: italic\"> </span><a href=\"https://www.instagram.com/cherrylll_777\" target=\"_blank\"><span style=\"font-style: italic\">Link</span></a><span style=\"font-style: italic\"> </span>│\n",
       "│   25 │<span style=\"color: #008080; text-decoration-color: #008080; font-weight: bold\"> mounika__golla     </span>│<span style=\"color: #008000; text-decoration-color: #008000\"> 2020-04-30 17:47:04 </span>│<span style=\"font-style: italic\"> </span><a href=\"https://www.instagram.com/mounika__golla\" target=\"_blank\"><span style=\"font-style: italic\">Link</span></a><span style=\"font-style: italic\"> </span>│\n",
       "│   26 │<span style=\"color: #008080; text-decoration-color: #008080; font-weight: bold\"> the.glitz.tk       </span>│<span style=\"color: #008000; text-decoration-color: #008000\"> 2020-05-01 01:24:44 </span>│<span style=\"font-style: italic\"> </span><a href=\"https://www.instagram.com/the.glitz.tk\" target=\"_blank\"><span style=\"font-style: italic\">Link</span></a><span style=\"font-style: italic\"> </span>│\n",
       "│   27 │<span style=\"color: #008080; text-decoration-color: #008080; font-weight: bold\"> joveka_kumar       </span>│<span style=\"color: #008000; text-decoration-color: #008000\"> 2020-05-01 16:05:49 </span>│<span style=\"font-style: italic\"> </span><a href=\"https://www.instagram.com/joveka_kumar\" target=\"_blank\"><span style=\"font-style: italic\">Link</span></a><span style=\"font-style: italic\"> </span>│\n",
       "│   28 │<span style=\"color: #008080; text-decoration-color: #008080; font-weight: bold\"> mithra_mithu31     </span>│<span style=\"color: #008000; text-decoration-color: #008000\"> 2020-05-01 16:06:53 </span>│<span style=\"font-style: italic\"> </span><a href=\"https://www.instagram.com/mithra_mithu31\" target=\"_blank\"><span style=\"font-style: italic\">Link</span></a><span style=\"font-style: italic\"> </span>│\n",
       "│   29 │<span style=\"color: #008080; text-decoration-color: #008080; font-weight: bold\"> ___l___d____555    </span>│<span style=\"color: #008000; text-decoration-color: #008000\"> 2020-05-02 01:13:33 </span>│<span style=\"font-style: italic\"> </span><a href=\"https://www.instagram.com/___l___d____555\" target=\"_blank\"><span style=\"font-style: italic\">Link</span></a><span style=\"font-style: italic\"> </span>│\n",
       "│   30 │<span style=\"color: #008080; text-decoration-color: #008080; font-weight: bold\"> anshu_raja         </span>│<span style=\"color: #008000; text-decoration-color: #008000\"> 2020-05-04 01:15:27 </span>│<span style=\"font-style: italic\"> </span><a href=\"https://www.instagram.com/anshu_raja\" target=\"_blank\"><span style=\"font-style: italic\">Link</span></a><span style=\"font-style: italic\"> </span>│\n",
       "└──────┴────────────────────┴─────────────────────┴──────┘\n",
       "</pre>\n"
      ],
      "text/plain": [
       "\u001b[3m                    Batch: 2025-02-24                     \u001b[0m\n",
       "┏━━━━━━┳━━━━━━━━━━━━━━━━━━━━┳━━━━━━━━━━━━━━━━━━━━━┳━━━━━━┓\n",
       "┃\u001b[1m \u001b[0m\u001b[1mS.no\u001b[0m\u001b[1m \u001b[0m┃\u001b[1m \u001b[0m\u001b[1mID                \u001b[0m\u001b[1m \u001b[0m┃\u001b[1m \u001b[0m\u001b[1mDate               \u001b[0m\u001b[1m \u001b[0m┃\u001b[1m \u001b[0m\u001b[1mLink\u001b[0m\u001b[1m \u001b[0m┃\n",
       "┡━━━━━━╇━━━━━━━━━━━━━━━━━━━━╇━━━━━━━━━━━━━━━━━━━━━╇━━━━━━┩\n",
       "│    1 │\u001b[1;36m \u001b[0m\u001b[1;36millusion_469      \u001b[0m\u001b[1;36m \u001b[0m│\u001b[32m \u001b[0m\u001b[32m2020-04-05 00:11:56\u001b[0m\u001b[32m \u001b[0m│\u001b[3m \u001b[0m\u001b]8;id=820272;https://www.instagram.com/illusion_469\u001b\\\u001b[3mLink\u001b[0m\u001b]8;;\u001b\\\u001b[3m \u001b[0m│\n",
       "│    2 │\u001b[1;36m \u001b[0m\u001b[1;36mjagruti_borse_99  \u001b[0m\u001b[1;36m \u001b[0m│\u001b[32m \u001b[0m\u001b[32m2020-04-08 05:26:47\u001b[0m\u001b[32m \u001b[0m│\u001b[3m \u001b[0m\u001b]8;id=730222;https://www.instagram.com/jagruti_borse_99\u001b\\\u001b[3mLink\u001b[0m\u001b]8;;\u001b\\\u001b[3m \u001b[0m│\n",
       "│    3 │\u001b[1;36m \u001b[0m\u001b[1;36msaylichaudhari1013\u001b[0m\u001b[1;36m \u001b[0m│\u001b[32m \u001b[0m\u001b[32m2020-04-09 12:09:37\u001b[0m\u001b[32m \u001b[0m│\u001b[3m \u001b[0m\u001b]8;id=455271;https://www.instagram.com/saylichaudhari1013\u001b\\\u001b[3mLink\u001b[0m\u001b]8;;\u001b\\\u001b[3m \u001b[0m│\n",
       "│    4 │\u001b[1;36m \u001b[0m\u001b[1;36mviniktha_chowdary \u001b[0m\u001b[1;36m \u001b[0m│\u001b[32m \u001b[0m\u001b[32m2020-04-14 08:50:48\u001b[0m\u001b[32m \u001b[0m│\u001b[3m \u001b[0m\u001b]8;id=682910;https://www.instagram.com/viniktha_chowdary\u001b\\\u001b[3mLink\u001b[0m\u001b]8;;\u001b\\\u001b[3m \u001b[0m│\n",
       "│    5 │\u001b[1;36m \u001b[0m\u001b[1;36msamanvii06        \u001b[0m\u001b[1;36m \u001b[0m│\u001b[32m \u001b[0m\u001b[32m2020-04-16 11:42:13\u001b[0m\u001b[32m \u001b[0m│\u001b[3m \u001b[0m\u001b]8;id=819489;https://www.instagram.com/samanvii06\u001b\\\u001b[3mLink\u001b[0m\u001b]8;;\u001b\\\u001b[3m \u001b[0m│\n",
       "│    6 │\u001b[1;36m \u001b[0m\u001b[1;36manusha__2208      \u001b[0m\u001b[1;36m \u001b[0m│\u001b[32m \u001b[0m\u001b[32m2020-04-20 13:56:33\u001b[0m\u001b[32m \u001b[0m│\u001b[3m \u001b[0m\u001b]8;id=206502;https://www.instagram.com/anusha__2208\u001b\\\u001b[3mLink\u001b[0m\u001b]8;;\u001b\\\u001b[3m \u001b[0m│\n",
       "│    7 │\u001b[1;36m \u001b[0m\u001b[1;36mhey._.s_i_r_i     \u001b[0m\u001b[1;36m \u001b[0m│\u001b[32m \u001b[0m\u001b[32m2020-04-20 19:46:53\u001b[0m\u001b[32m \u001b[0m│\u001b[3m \u001b[0m\u001b]8;id=185007;https://www.instagram.com/hey._.s_i_r_i\u001b\\\u001b[3mLink\u001b[0m\u001b]8;;\u001b\\\u001b[3m \u001b[0m│\n",
       "│    8 │\u001b[1;36m \u001b[0m\u001b[1;36mwaghelakhushi_    \u001b[0m\u001b[1;36m \u001b[0m│\u001b[32m \u001b[0m\u001b[32m2020-04-20 20:30:34\u001b[0m\u001b[32m \u001b[0m│\u001b[3m \u001b[0m\u001b]8;id=75447;https://www.instagram.com/waghelakhushi_\u001b\\\u001b[3mLink\u001b[0m\u001b]8;;\u001b\\\u001b[3m \u001b[0m│\n",
       "│    9 │\u001b[1;36m \u001b[0m\u001b[1;36m__pooja_rajani__  \u001b[0m\u001b[1;36m \u001b[0m│\u001b[32m \u001b[0m\u001b[32m2020-04-20 20:30:41\u001b[0m\u001b[32m \u001b[0m│\u001b[3m \u001b[0m\u001b]8;id=449053;https://www.instagram.com/__pooja_rajani__\u001b\\\u001b[3mLink\u001b[0m\u001b]8;;\u001b\\\u001b[3m \u001b[0m│\n",
       "│   10 │\u001b[1;36m \u001b[0m\u001b[1;36mriaaa.sm          \u001b[0m\u001b[1;36m \u001b[0m│\u001b[32m \u001b[0m\u001b[32m2020-04-20 20:31:48\u001b[0m\u001b[32m \u001b[0m│\u001b[3m \u001b[0m\u001b]8;id=898716;https://www.instagram.com/riaaa.sm\u001b\\\u001b[3mLink\u001b[0m\u001b]8;;\u001b\\\u001b[3m \u001b[0m│\n",
       "│   11 │\u001b[1;36m \u001b[0m\u001b[1;36m_chaiiiiii___     \u001b[0m\u001b[1;36m \u001b[0m│\u001b[32m \u001b[0m\u001b[32m2020-04-20 21:27:07\u001b[0m\u001b[32m \u001b[0m│\u001b[3m \u001b[0m\u001b]8;id=414542;https://www.instagram.com/_chaiiiiii___\u001b\\\u001b[3mLink\u001b[0m\u001b]8;;\u001b\\\u001b[3m \u001b[0m│\n",
       "│   12 │\u001b[1;36m \u001b[0m\u001b[1;36mvinnyshaurya      \u001b[0m\u001b[1;36m \u001b[0m│\u001b[32m \u001b[0m\u001b[32m2020-04-22 21:25:13\u001b[0m\u001b[32m \u001b[0m│\u001b[3m \u001b[0m\u001b]8;id=735625;https://www.instagram.com/vinnyshaurya\u001b\\\u001b[3mLink\u001b[0m\u001b]8;;\u001b\\\u001b[3m \u001b[0m│\n",
       "│   13 │\u001b[1;36m \u001b[0m\u001b[1;36mprapti.shrivastava\u001b[0m\u001b[1;36m \u001b[0m│\u001b[32m \u001b[0m\u001b[32m2020-04-24 00:31:25\u001b[0m\u001b[32m \u001b[0m│\u001b[3m \u001b[0m\u001b]8;id=96873;https://www.instagram.com/prapti.shrivastava\u001b\\\u001b[3mLink\u001b[0m\u001b]8;;\u001b\\\u001b[3m \u001b[0m│\n",
       "│   14 │\u001b[1;36m \u001b[0m\u001b[1;36mrabia.salhotra    \u001b[0m\u001b[1;36m \u001b[0m│\u001b[32m \u001b[0m\u001b[32m2020-04-24 00:32:02\u001b[0m\u001b[32m \u001b[0m│\u001b[3m \u001b[0m\u001b]8;id=928487;https://www.instagram.com/rabia.salhotra\u001b\\\u001b[3mLink\u001b[0m\u001b]8;;\u001b\\\u001b[3m \u001b[0m│\n",
       "│   15 │\u001b[1;36m \u001b[0m\u001b[1;36mjainprachi7       \u001b[0m\u001b[1;36m \u001b[0m│\u001b[32m \u001b[0m\u001b[32m2020-04-24 00:32:59\u001b[0m\u001b[32m \u001b[0m│\u001b[3m \u001b[0m\u001b]8;id=357184;https://www.instagram.com/jainprachi7\u001b\\\u001b[3mLink\u001b[0m\u001b]8;;\u001b\\\u001b[3m \u001b[0m│\n",
       "│   16 │\u001b[1;36m \u001b[0m\u001b[1;36mdeepika9139       \u001b[0m\u001b[1;36m \u001b[0m│\u001b[32m \u001b[0m\u001b[32m2020-04-24 00:34:47\u001b[0m\u001b[32m \u001b[0m│\u001b[3m \u001b[0m\u001b]8;id=771133;https://www.instagram.com/deepika9139\u001b\\\u001b[3mLink\u001b[0m\u001b]8;;\u001b\\\u001b[3m \u001b[0m│\n",
       "│   17 │\u001b[1;36m \u001b[0m\u001b[1;36mmehakhans_888     \u001b[0m\u001b[1;36m \u001b[0m│\u001b[32m \u001b[0m\u001b[32m2020-04-24 00:34:52\u001b[0m\u001b[32m \u001b[0m│\u001b[3m \u001b[0m\u001b]8;id=505150;https://www.instagram.com/mehakhans_888\u001b\\\u001b[3mLink\u001b[0m\u001b]8;;\u001b\\\u001b[3m \u001b[0m│\n",
       "│   18 │\u001b[1;36m \u001b[0m\u001b[1;36mvamikaanand._     \u001b[0m\u001b[1;36m \u001b[0m│\u001b[32m \u001b[0m\u001b[32m2020-04-24 02:42:39\u001b[0m\u001b[32m \u001b[0m│\u001b[3m \u001b[0m\u001b]8;id=827547;https://www.instagram.com/vamikaanand._\u001b\\\u001b[3mLink\u001b[0m\u001b]8;;\u001b\\\u001b[3m \u001b[0m│\n",
       "│   19 │\u001b[1;36m \u001b[0m\u001b[1;36m_.rachnaaaaa._    \u001b[0m\u001b[1;36m \u001b[0m│\u001b[32m \u001b[0m\u001b[32m2020-04-25 01:24:24\u001b[0m\u001b[32m \u001b[0m│\u001b[3m \u001b[0m\u001b]8;id=665588;https://www.instagram.com/_.rachnaaaaa._\u001b\\\u001b[3mLink\u001b[0m\u001b]8;;\u001b\\\u001b[3m \u001b[0m│\n",
       "│   20 │\u001b[1;36m \u001b[0m\u001b[1;36mnikhila_b1        \u001b[0m\u001b[1;36m \u001b[0m│\u001b[32m \u001b[0m\u001b[32m2020-04-26 17:46:54\u001b[0m\u001b[32m \u001b[0m│\u001b[3m \u001b[0m\u001b]8;id=226366;https://www.instagram.com/nikhila_b1\u001b\\\u001b[3mLink\u001b[0m\u001b]8;;\u001b\\\u001b[3m \u001b[0m│\n",
       "│   21 │\u001b[1;36m \u001b[0m\u001b[1;36mpriya_ch9tt9      \u001b[0m\u001b[1;36m \u001b[0m│\u001b[32m \u001b[0m\u001b[32m2020-04-26 17:58:25\u001b[0m\u001b[32m \u001b[0m│\u001b[3m \u001b[0m\u001b]8;id=704468;https://www.instagram.com/priya_ch9tt9\u001b\\\u001b[3mLink\u001b[0m\u001b]8;;\u001b\\\u001b[3m \u001b[0m│\n",
       "│   22 │\u001b[1;36m \u001b[0m\u001b[1;36mintrospector_wave \u001b[0m\u001b[1;36m \u001b[0m│\u001b[32m \u001b[0m\u001b[32m2020-04-28 00:41:14\u001b[0m\u001b[32m \u001b[0m│\u001b[3m \u001b[0m\u001b]8;id=870105;https://www.instagram.com/introspector_wave\u001b\\\u001b[3mLink\u001b[0m\u001b]8;;\u001b\\\u001b[3m \u001b[0m│\n",
       "│   23 │\u001b[1;36m \u001b[0m\u001b[1;36msrujala_pedduri   \u001b[0m\u001b[1;36m \u001b[0m│\u001b[32m \u001b[0m\u001b[32m2020-04-29 23:40:32\u001b[0m\u001b[32m \u001b[0m│\u001b[3m \u001b[0m\u001b]8;id=220365;https://www.instagram.com/srujala_pedduri\u001b\\\u001b[3mLink\u001b[0m\u001b]8;;\u001b\\\u001b[3m \u001b[0m│\n",
       "│   24 │\u001b[1;36m \u001b[0m\u001b[1;36mcherrylll_777     \u001b[0m\u001b[1;36m \u001b[0m│\u001b[32m \u001b[0m\u001b[32m2020-04-30 17:46:52\u001b[0m\u001b[32m \u001b[0m│\u001b[3m \u001b[0m\u001b]8;id=754451;https://www.instagram.com/cherrylll_777\u001b\\\u001b[3mLink\u001b[0m\u001b]8;;\u001b\\\u001b[3m \u001b[0m│\n",
       "│   25 │\u001b[1;36m \u001b[0m\u001b[1;36mmounika__golla    \u001b[0m\u001b[1;36m \u001b[0m│\u001b[32m \u001b[0m\u001b[32m2020-04-30 17:47:04\u001b[0m\u001b[32m \u001b[0m│\u001b[3m \u001b[0m\u001b]8;id=554864;https://www.instagram.com/mounika__golla\u001b\\\u001b[3mLink\u001b[0m\u001b]8;;\u001b\\\u001b[3m \u001b[0m│\n",
       "│   26 │\u001b[1;36m \u001b[0m\u001b[1;36mthe.glitz.tk      \u001b[0m\u001b[1;36m \u001b[0m│\u001b[32m \u001b[0m\u001b[32m2020-05-01 01:24:44\u001b[0m\u001b[32m \u001b[0m│\u001b[3m \u001b[0m\u001b]8;id=438101;https://www.instagram.com/the.glitz.tk\u001b\\\u001b[3mLink\u001b[0m\u001b]8;;\u001b\\\u001b[3m \u001b[0m│\n",
       "│   27 │\u001b[1;36m \u001b[0m\u001b[1;36mjoveka_kumar      \u001b[0m\u001b[1;36m \u001b[0m│\u001b[32m \u001b[0m\u001b[32m2020-05-01 16:05:49\u001b[0m\u001b[32m \u001b[0m│\u001b[3m \u001b[0m\u001b]8;id=744802;https://www.instagram.com/joveka_kumar\u001b\\\u001b[3mLink\u001b[0m\u001b]8;;\u001b\\\u001b[3m \u001b[0m│\n",
       "│   28 │\u001b[1;36m \u001b[0m\u001b[1;36mmithra_mithu31    \u001b[0m\u001b[1;36m \u001b[0m│\u001b[32m \u001b[0m\u001b[32m2020-05-01 16:06:53\u001b[0m\u001b[32m \u001b[0m│\u001b[3m \u001b[0m\u001b]8;id=178718;https://www.instagram.com/mithra_mithu31\u001b\\\u001b[3mLink\u001b[0m\u001b]8;;\u001b\\\u001b[3m \u001b[0m│\n",
       "│   29 │\u001b[1;36m \u001b[0m\u001b[1;36m___l___d____555   \u001b[0m\u001b[1;36m \u001b[0m│\u001b[32m \u001b[0m\u001b[32m2020-05-02 01:13:33\u001b[0m\u001b[32m \u001b[0m│\u001b[3m \u001b[0m\u001b]8;id=387894;https://www.instagram.com/___l___d____555\u001b\\\u001b[3mLink\u001b[0m\u001b]8;;\u001b\\\u001b[3m \u001b[0m│\n",
       "│   30 │\u001b[1;36m \u001b[0m\u001b[1;36manshu_raja        \u001b[0m\u001b[1;36m \u001b[0m│\u001b[32m \u001b[0m\u001b[32m2020-05-04 01:15:27\u001b[0m\u001b[32m \u001b[0m│\u001b[3m \u001b[0m\u001b]8;id=56110;https://www.instagram.com/anshu_raja\u001b\\\u001b[3mLink\u001b[0m\u001b]8;;\u001b\\\u001b[3m \u001b[0m│\n",
       "└──────┴────────────────────┴─────────────────────┴──────┘\n"
      ]
     },
     "metadata": {},
     "output_type": "display_data"
    },
    {
     "name": "stdout",
     "output_type": "stream",
     "text": [
      "Unfollow Batch, start: 2020-04-05 [60], end: 2020-05-04 [90]\n",
      "https://www.instagram.com/illusion_469\n",
      "https://www.instagram.com/jagruti_borse_99\n",
      "https://www.instagram.com/saylichaudhari1013\n",
      "https://www.instagram.com/viniktha_chowdary\n",
      "https://www.instagram.com/samanvii06\n",
      "https://www.instagram.com/anusha__2208\n",
      "https://www.instagram.com/hey._.s_i_r_i\n",
      "https://www.instagram.com/waghelakhushi_\n",
      "https://www.instagram.com/__pooja_rajani__\n",
      "https://www.instagram.com/riaaa.sm\n",
      "https://www.instagram.com/_chaiiiiii___\n",
      "https://www.instagram.com/vinnyshaurya\n",
      "https://www.instagram.com/prapti.shrivastava\n",
      "https://www.instagram.com/rabia.salhotra\n",
      "https://www.instagram.com/jainprachi7\n",
      "https://www.instagram.com/deepika9139\n",
      "https://www.instagram.com/mehakhans_888\n",
      "https://www.instagram.com/vamikaanand._\n",
      "https://www.instagram.com/_.rachnaaaaa._\n",
      "https://www.instagram.com/nikhila_b1\n",
      "https://www.instagram.com/priya_ch9tt9\n",
      "https://www.instagram.com/introspector_wave\n",
      "https://www.instagram.com/srujala_pedduri\n",
      "https://www.instagram.com/cherrylll_777\n",
      "https://www.instagram.com/mounika__golla\n",
      "https://www.instagram.com/the.glitz.tk\n",
      "https://www.instagram.com/joveka_kumar\n",
      "https://www.instagram.com/mithra_mithu31\n",
      "https://www.instagram.com/___l___d____555\n",
      "https://www.instagram.com/anshu_raja\n"
     ]
    }
   ],
   "source": [
    "index = 2\n",
    "console = Console()\n",
    "batch = follow_requests.iloc[30*index:30*(index+1)]\n",
    "table = Table(title=f\"Batch: {datetime.now().date()}\")\n",
    "table.add_column(\"S.no\",justify=\"right\")\n",
    "table.add_column(\"ID\",justify=\"left\",style=\"bold cyan\")\n",
    "table.add_column(\"Date\",justify=\"left\",style=\"green\")\n",
    "table.add_column(\"Link\",style=\"italic\",overflow=\"fold\")\n",
    "for _, row in enumerate(batch.itertuples(), start=1):\n",
    "    table.add_row(str(_), row[1], str(row[2]), f\"[link={row[3]}]Link[/link]\")\n",
    "console.print(table)\n",
    "print(f\"Unfollow Batch, start: {batch.iloc[0]['timestamp'].date()} [{30*index}], end: {batch.iloc[-1]['timestamp'].date()} [{30*(index+1)}]\")\n",
    "for row in batch.itertuples():\n",
    "    print(row[-1])"
   ]
  },
  {
   "cell_type": "code",
   "execution_count": null,
   "metadata": {},
   "outputs": [],
   "source": []
  }
 ],
 "metadata": {
  "kernelspec": {
   "display_name": ".venv",
   "language": "python",
   "name": "python3"
  },
  "language_info": {
   "codemirror_mode": {
    "name": "ipython",
    "version": 3
   },
   "file_extension": ".py",
   "mimetype": "text/x-python",
   "name": "python",
   "nbconvert_exporter": "python",
   "pygments_lexer": "ipython3",
   "version": "3.13.2"
  }
 },
 "nbformat": 4,
 "nbformat_minor": 2
}
