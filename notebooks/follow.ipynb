{
 "cells": [
  {
   "cell_type": "code",
   "execution_count": 7,
   "metadata": {},
   "outputs": [],
   "source": [
    "from pathlib import Path\n",
    "from pandas import DataFrame\n",
    "from datetime import datetime\n",
    "from shutil import move\n",
    "\n",
    "OLD_DIR = Path(r\"D:\\Coding\\Python\\Insta-Saved\")\n",
    "FOLLOW_DIR = Path(r\"C:\\Users\\seshu\\Pictures\\Insta\\Follow\")\n",
    "FOLLOW_DIR.mkdir(exist_ok=True, parents=True)"
   ]
  },
  {
   "cell_type": "code",
   "execution_count": 8,
   "metadata": {},
   "outputs": [
    {
     "name": "stdout",
     "output_type": "stream",
     "text": [
      "\n",
      "1. x: Get current size of Follow dir.\n",
      "2. Move (10-x) profiles to Follow dir from OLD dir.\n",
      "3. Print Batch to copy to Telegram.\n",
      "4. Review before copying and rerun if batch size doesn't match 10.\n",
      "\n"
     ]
    }
   ],
   "source": [
    "print(\"\"\"\n",
    "1. x: Get current size of Follow dir.\n",
    "2. Move (10-x) profiles to Follow dir from OLD dir.\n",
    "3. Print Batch to copy to Telegram.\n",
    "4. Review before copying and rerun if batch size doesn't match 10.\n",
    "\"\"\")"
   ]
  },
  {
   "cell_type": "code",
   "execution_count": 9,
   "metadata": {},
   "outputs": [
    {
     "name": "stdout",
     "output_type": "stream",
     "text": [
      "Follow Batch: 2025-02-23\n",
      "https://instagram.com/boomikaa_a\n",
      "https://instagram.com/chaitrakumari\n",
      "https://instagram.com/kavyasub\n",
      "https://instagram.com/reddy_ritu_\n",
      "https://instagram.com/shivikkaaaa\n",
      "https://instagram.com/sreejareddyb\n",
      "https://instagram.com/vardasinghallll\n",
      "https://instagram.com/_.gauriiiiii\n",
      "https://instagram.com/_.sann__\n",
      "https://instagram.com/_ramya.reddy__\n"
     ]
    }
   ],
   "source": [
    "current = len(list(FOLLOW_DIR.glob(\"*.jpg\")))\n",
    "batch = list(OLD_DIR.glob(\"*/*/*/*.jpg\"))[:10-current]\n",
    "[move(x, FOLLOW_DIR) for x in batch]\n",
    "current = list(FOLLOW_DIR.glob(\"*.jpg\"))\n",
    "print(f\"Follow Batch: {datetime.now().date()}\")\n",
    "a = list(map(lambda x: print(f\"https://instagram.com/{x.stem}\"), current))"
   ]
  },
  {
   "cell_type": "code",
   "execution_count": null,
   "metadata": {},
   "outputs": [],
   "source": []
  }
 ],
 "metadata": {
  "kernelspec": {
   "display_name": ".venv",
   "language": "python",
   "name": "python3"
  },
  "language_info": {
   "codemirror_mode": {
    "name": "ipython",
    "version": 3
   },
   "file_extension": ".py",
   "mimetype": "text/x-python",
   "name": "python",
   "nbconvert_exporter": "python",
   "pygments_lexer": "ipython3",
   "version": "3.13.2"
  }
 },
 "nbformat": 4,
 "nbformat_minor": 2
}
